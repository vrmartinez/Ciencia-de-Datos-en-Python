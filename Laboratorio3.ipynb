{
 "cells": [
  {
   "cell_type": "markdown",
   "metadata": {},
   "source": [
    "# Laboratorio No. 3\n",
    "# Ejercicio No. 1"
   ]
  },
  {
   "cell_type": "code",
   "execution_count": 2,
   "metadata": {},
   "outputs": [],
   "source": [
    "def decimal_a_binario(numero: int) -> str:\n",
    "    \"\"\"\n",
    "    Convierte un número decimal a binario sin usar bin().\n",
    "    \"\"\"\n",
    "    if numero == 0:\n",
    "        return \"0\"\n",
    "    binario = \"\"\n",
    "    while numero > 0:\n",
    "        binario = str(numero % 2) + binario\n",
    "        numero //= 2\n",
    "    return binario"
   ]
  },
  {
   "cell_type": "code",
   "execution_count": 3,
   "metadata": {},
   "outputs": [],
   "source": [
    "def solicitar_numero_decimal() -> int:\n",
    "    \"\"\"\n",
    "    Solicita un número decimal al usuario y valida la entrada.\n",
    "    \"\"\"\n",
    "    while True:\n",
    "        try:\n",
    "            numero = int(input(\"Ingrese un número entero decimal: \"))\n",
    "            return numero\n",
    "        except ValueError:\n",
    "            print(\"Error: Entrada inválida. Debe ingresar un número entero válido.\")"
   ]
  },
  {
   "cell_type": "code",
   "execution_count": 4,
   "metadata": {},
   "outputs": [],
   "source": [
    "def probar_funcion_decimal_a_binario() -> None:\n",
    "    \"\"\"\n",
    "    Prueba la función decimal_a_binario con tres casos distintos.\n",
    "    \"\"\"\n",
    "    print(\"Pruebas de la función decimal_a_binario:\")\n",
    "    for i in range(1, 4):\n",
    "        numero = solicitar_numero_decimal()\n",
    "        binario = decimal_a_binario(numero)\n",
    "        print(f\"El número {numero} en binario es {binario}.\")"
   ]
  },
  {
   "cell_type": "code",
   "execution_count": 5,
   "metadata": {},
   "outputs": [
    {
     "name": "stdout",
     "output_type": "stream",
     "text": [
      "Pruebas de la función decimal_a_binario:\n",
      "El número 256 en binario es 100000000.\n",
      "El número 45 en binario es 101101.\n",
      "El número 55 en binario es 110111.\n"
     ]
    }
   ],
   "source": [
    "probar_funcion_decimal_a_binario()"
   ]
  },
  {
   "cell_type": "markdown",
   "metadata": {},
   "source": [
    "# Ejercicio No. 2"
   ]
  },
  {
   "cell_type": "code",
   "execution_count": 6,
   "metadata": {},
   "outputs": [],
   "source": [
    "def es_primo(numero: int) -> bool:\n",
    "    \"\"\"\n",
    "    Verifica si un número es primo.\n",
    "    \"\"\"\n",
    "    if numero < 2:\n",
    "        return False\n",
    "    for i in range(2, int(numero ** 0.5) + 1):\n",
    "        if numero % i == 0:\n",
    "            return False\n",
    "    return True"
   ]
  },
  {
   "cell_type": "code",
   "execution_count": 7,
   "metadata": {},
   "outputs": [],
   "source": [
    "def solicitar_numero_primo() -> int:\n",
    "    \"\"\"\n",
    "    Solicita un número entero al usuario y valida la entrada.\n",
    "    \"\"\"\n",
    "    while True:\n",
    "        try:\n",
    "            numero = int(input(\"Ingrese un número entero para verificar si es primo: \"))\n",
    "            return numero\n",
    "        except ValueError:\n",
    "            print(\"Error: Entrada inválida. Debe ingresar un número entero válido.\")\n"
   ]
  },
  {
   "cell_type": "code",
   "execution_count": 8,
   "metadata": {},
   "outputs": [],
   "source": [
    "def probar_funcion_es_primo() -> None:\n",
    "    \"\"\"\n",
    "    Prueba la función es_primo con tres casos distintos.\n",
    "    \"\"\"\n",
    "    print(\"Pruebas de la función es_primo:\")\n",
    "    for i in range(1, 4):\n",
    "        numero = solicitar_numero_primo()\n",
    "        resultado = es_primo(numero)\n",
    "        print(f\"El número {numero} {'es primo' if resultado else 'no es primo'}.\")"
   ]
  },
  {
   "cell_type": "code",
   "execution_count": 9,
   "metadata": {},
   "outputs": [
    {
     "name": "stdout",
     "output_type": "stream",
     "text": [
      "Pruebas de la función es_primo:\n",
      "El número 45 no es primo.\n",
      "El número 96 no es primo.\n",
      "El número 17 es primo.\n"
     ]
    }
   ],
   "source": [
    "probar_funcion_es_primo()"
   ]
  },
  {
   "cell_type": "markdown",
   "metadata": {},
   "source": [
    "# Ejercicio No. 3"
   ]
  },
  {
   "cell_type": "code",
   "execution_count": 10,
   "metadata": {},
   "outputs": [],
   "source": [
    "def calcular_desviacion_estandar(lista: list[float]) -> float:\n",
    "    \"\"\"\n",
    "    Calcula la desviación estándar de una lista de números sin usar funciones predefinidas.\n",
    "    \"\"\"\n",
    "    n = len(lista)\n",
    "    if n == 0:\n",
    "        raise ValueError(\"La lista no puede estar vacía.\")\n",
    "    media = sum(lista) / n\n",
    "    varianza = sum((x - media) ** 2 for x in lista) / n\n",
    "    return varianza ** 0.5"
   ]
  },
  {
   "cell_type": "code",
   "execution_count": 11,
   "metadata": {},
   "outputs": [],
   "source": [
    "def solicitar_lista_numeros() -> list[float]:\n",
    "    \"\"\"\n",
    "    Solicita una lista de números al usuario y valida la entrada.\n",
    "    \"\"\"\n",
    "    while True:\n",
    "        try:\n",
    "            numeros = input(\"Ingrese una lista de números separados por comas: \")\n",
    "            lista_numeros = [float(num.strip()) for num in numeros.split(\",\")]\n",
    "            return lista_numeros\n",
    "        except ValueError:\n",
    "            print(\"Error: Entrada inválida. Debe ingresar solo números separados por comas.\")\n"
   ]
  },
  {
   "cell_type": "code",
   "execution_count": 13,
   "metadata": {},
   "outputs": [],
   "source": [
    "def probar_funcion_desviacion_estandar() -> None:\n",
    "    \"\"\"\n",
    "    Prueba la función calcular_desviacion_estandar con tres casos distintos.\n",
    "    \"\"\"\n",
    "    print(\"Pruebas de la función calcular_desviacion_estandar:\")\n",
    "    for i in range(1, 4):\n",
    "        lista = solicitar_lista_numeros()\n",
    "        resultado = calcular_desviacion_estandar(lista)\n",
    "        print(f\"La desviación estándar de la lista {lista} es: {resultado:.4f}\")"
   ]
  },
  {
   "cell_type": "code",
   "execution_count": 14,
   "metadata": {},
   "outputs": [
    {
     "name": "stdout",
     "output_type": "stream",
     "text": [
      "Pruebas de la función calcular_desviacion_estandar:\n",
      "La desviación estándar de la lista [25.0, 50.0, 36.0, 75.0, 38.0] es: 17.0575\n",
      "La desviación estándar de la lista [25.0, 35.0, 78.0, 125.0] es: 39.5814\n",
      "La desviación estándar de la lista [1532.0, 2587.0, 95.0, 88.0] es: 1052.3261\n"
     ]
    }
   ],
   "source": [
    "probar_funcion_desviacion_estandar()"
   ]
  },
  {
   "cell_type": "markdown",
   "metadata": {},
   "source": [
    "# Ejercicio No. 4"
   ]
  },
  {
   "cell_type": "code",
   "execution_count": 18,
   "metadata": {},
   "outputs": [],
   "source": [
    "def ordenar_burbuja(lista: list[int]) -> list[int]:\n",
    "    \"\"\"\n",
    "    Implementa el algoritmo de ordenamiento burbuja.\n",
    "    \"\"\"\n",
    "    n = len(lista)\n",
    "    for i in range(n):\n",
    "        for j in range(0, n - i - 1):\n",
    "            if lista[j] > lista[j + 1]:\n",
    "                lista[j], lista[j + 1] = lista[j + 1], lista[j]\n",
    "    return lista"
   ]
  },
  {
   "cell_type": "code",
   "execution_count": 19,
   "metadata": {},
   "outputs": [],
   "source": [
    "def solicitar_lista_enteros() -> list[int]:\n",
    "    \"\"\"\n",
    "    Solicita una lista de números enteros al usuario y valida la entrada.\n",
    "    \"\"\"\n",
    "    while True:\n",
    "        try:\n",
    "            numeros = input(\"Ingrese una lista de números enteros separados por comas: \")\n",
    "            lista_enteros = [int(num.strip()) for num in numeros.split(\",\")]\n",
    "            return lista_enteros\n",
    "        except ValueError:\n",
    "            print(\"Error: Entrada inválida. Debe ingresar solo números enteros separados por comas.\")"
   ]
  },
  {
   "cell_type": "code",
   "execution_count": 20,
   "metadata": {},
   "outputs": [],
   "source": [
    "def probar_funcion_ordenar_burbuja() -> None:\n",
    "    \"\"\"\n",
    "    Prueba la función ordenar_burbuja con tres casos distintos.\n",
    "    \"\"\"\n",
    "    print(\"Pruebas de la función ordenar_burbuja:\")\n",
    "    for i in range(1, 4):\n",
    "        lista = solicitar_lista_enteros()\n",
    "        resultado = ordenar_burbuja(lista)\n",
    "        print(f\"Lista ordenada: {resultado}\")"
   ]
  },
  {
   "cell_type": "code",
   "execution_count": 21,
   "metadata": {},
   "outputs": [
    {
     "name": "stdout",
     "output_type": "stream",
     "text": [
      "Pruebas de la función ordenar_burbuja:\n",
      "Lista ordenada: [12, 46, 50, 66]\n",
      "Lista ordenada: [2, 66, 1325, 1854, 9854]\n",
      "Lista ordenada: [10, 46, 145, 325, 8542]\n"
     ]
    }
   ],
   "source": [
    "probar_funcion_ordenar_burbuja()"
   ]
  },
  {
   "cell_type": "markdown",
   "metadata": {},
   "source": [
    "# Ejercicio No. 5"
   ]
  },
  {
   "cell_type": "code",
   "execution_count": 22,
   "metadata": {},
   "outputs": [],
   "source": [
    "def convertir_tupla_a_string(tupla: tuple) -> str:\n",
    "    \"\"\"\n",
    "    Convierte una tupla de elementos en un string concatenado.\n",
    "    \"\"\"\n",
    "    return ''.join(map(str, tupla))"
   ]
  },
  {
   "cell_type": "code",
   "execution_count": 23,
   "metadata": {},
   "outputs": [],
   "source": [
    "def solicitar_tupla() -> tuple:\n",
    "    \"\"\"\n",
    "    Solicita una tupla de elementos al usuario y la convierte a una tupla de Python.\n",
    "    \"\"\"\n",
    "    while True:\n",
    "        try:\n",
    "            elementos = input(\"Ingrese los elementos de la tupla separados por comas: \")\n",
    "            tupla = tuple(map(str.strip, elementos.split(',')))\n",
    "            return tupla\n",
    "        except ValueError:\n",
    "            print(\"Error: Entrada inválida. Debe ingresar elementos separados por comas.\")"
   ]
  },
  {
   "cell_type": "code",
   "execution_count": 24,
   "metadata": {},
   "outputs": [],
   "source": [
    "def probar_funcion_convertir_tupla_a_string() -> None:\n",
    "    \"\"\"\n",
    "    Prueba la función convertir_tupla_a_string con tres casos distintos.\n",
    "    \"\"\"\n",
    "    print(\"Pruebas de la función convertir_tupla_a_string:\")\n",
    "    for i in range(1, 4):\n",
    "        tupla = solicitar_tupla()\n",
    "        resultado = convertir_tupla_a_string(tupla)\n",
    "        print(f\"Tupla convertida a string: {resultado}\")"
   ]
  },
  {
   "cell_type": "code",
   "execution_count": 25,
   "metadata": {},
   "outputs": [
    {
     "name": "stdout",
     "output_type": "stream",
     "text": [
      "Pruebas de la función convertir_tupla_a_string:\n",
      "Tupla convertida a string: 102040570\n",
      "Tupla convertida a string: 5215866785\n",
      "Tupla convertida a string: 9856296\n"
     ]
    }
   ],
   "source": [
    "probar_funcion_convertir_tupla_a_string()"
   ]
  },
  {
   "cell_type": "markdown",
   "metadata": {},
   "source": [
    "# Ejercicio No. 6"
   ]
  },
  {
   "cell_type": "code",
   "execution_count": 26,
   "metadata": {},
   "outputs": [],
   "source": [
    "def contar_frecuencia_palabras(texto: str) -> dict:\n",
    "    \"\"\"\n",
    "    Cuenta la frecuencia de palabras en un texto dado.\n",
    "    \"\"\"\n",
    "    palabras = texto.lower().split()\n",
    "    frecuencia = {}\n",
    "    for palabra in palabras:\n",
    "        palabra = palabra.strip(\".,!?()[]{}\")\n",
    "        frecuencia[palabra] = frecuencia.get(palabra, 0) + 1\n",
    "    return frecuencia"
   ]
  },
  {
   "cell_type": "code",
   "execution_count": 27,
   "metadata": {},
   "outputs": [],
   "source": [
    "def solicitar_texto() -> str:\n",
    "    \"\"\"\n",
    "    Solicita un texto al usuario para analizar la frecuencia de palabras.\n",
    "    \"\"\"\n",
    "    return input(\"Ingrese un texto para analizar la frecuencia de palabras: \")"
   ]
  },
  {
   "cell_type": "code",
   "execution_count": 28,
   "metadata": {},
   "outputs": [],
   "source": [
    "def probar_funcion_contar_frecuencia_palabras() -> None:\n",
    "    \"\"\"\n",
    "    Prueba la función contar_frecuencia_palabras con tres casos distintos.\n",
    "    \"\"\"\n",
    "    print(\"Pruebas de la función contar_frecuencia_palabras:\")\n",
    "    for i in range(1, 4):\n",
    "        texto = solicitar_texto()\n",
    "        resultado = contar_frecuencia_palabras(texto)\n",
    "        print(f\"Frecuencia de palabras: {resultado}\")"
   ]
  },
  {
   "cell_type": "code",
   "execution_count": 29,
   "metadata": {},
   "outputs": [
    {
     "name": "stdout",
     "output_type": "stream",
     "text": [
      "Pruebas de la función contar_frecuencia_palabras:\n",
      "Frecuencia de palabras: {\"'x'),('a','b'),('a','b','c'),('d'\": 1}\n",
      "Frecuencia de palabras: {'': 2, 'x': 1, 'a': 2, 'b': 2, 'c': 1, 'd': 1}\n",
      "Frecuencia de palabras: {'': 2, \"'x'\": 1, \"'a','b'\": 1, \"'a','b','c'\": 1, \"'d'\": 1}\n"
     ]
    }
   ],
   "source": [
    "probar_funcion_contar_frecuencia_palabras()"
   ]
  },
  {
   "cell_type": "markdown",
   "metadata": {},
   "source": [
    "# Ejercicio # 7"
   ]
  },
  {
   "cell_type": "code",
   "execution_count": 30,
   "metadata": {},
   "outputs": [],
   "source": [
    "def encontrar_interseccion_sets(set1: set, set2: set) -> set:\n",
    "    \"\"\"\n",
    "    Encuentra la intersección de dos conjuntos.\n",
    "    \"\"\"\n",
    "    return set1 & set2"
   ]
  },
  {
   "cell_type": "code",
   "execution_count": 31,
   "metadata": {},
   "outputs": [],
   "source": [
    "def solicitar_conjuntos() -> tuple[set, set]:\n",
    "    \"\"\"\n",
    "    Solicita dos conjuntos de elementos al usuario.\n",
    "    \"\"\"\n",
    "    while True:\n",
    "        try:\n",
    "            elementos1 = input(\"Ingrese los elementos del primer conjunto separados por comas: \")\n",
    "            elementos2 = input(\"Ingrese los elementos del segundo conjunto separados por comas: \")\n",
    "            set1 = set(map(str.strip, elementos1.split(',')))\n",
    "            set2 = set(map(str.strip, elementos2.split(',')))\n",
    "            return set1, set2\n",
    "        except ValueError:\n",
    "            print(\"Error: Entrada inválida. Debe ingresar elementos separados por comas.\")"
   ]
  },
  {
   "cell_type": "code",
   "execution_count": 32,
   "metadata": {},
   "outputs": [],
   "source": [
    "def probar_funcion_encontrar_interseccion_sets() -> None:\n",
    "    \"\"\"\n",
    "    Prueba la función encontrar_interseccion_sets con tres casos distintos.\n",
    "    \"\"\"\n",
    "    print(\"Pruebas de la función encontrar_interseccion_sets:\")\n",
    "    for i in range(1, 4):\n",
    "        set1, set2 = solicitar_conjuntos()\n",
    "        resultado = encontrar_interseccion_sets(set1, set2)\n",
    "        print(f\"Intersección de los conjuntos: {resultado}\")"
   ]
  },
  {
   "cell_type": "code",
   "execution_count": 33,
   "metadata": {},
   "outputs": [
    {
     "name": "stdout",
     "output_type": "stream",
     "text": [
      "Pruebas de la función encontrar_interseccion_sets:\n",
      "Intersección de los conjuntos: {'80', '(81', '10', '(30', '12)', '56', '45)', '39', '45'}\n",
      "Intersección de los conjuntos: {'80', '30', '32', '10', '12', '56', '81', '39', '45'}\n",
      "Intersección de los conjuntos: set()\n"
     ]
    }
   ],
   "source": [
    "probar_funcion_encontrar_interseccion_sets()"
   ]
  },
  {
   "cell_type": "markdown",
   "metadata": {},
   "source": [
    "# Ejercicio # 8"
   ]
  },
  {
   "cell_type": "code",
   "execution_count": 37,
   "metadata": {},
   "outputs": [],
   "source": [
    "class Libro:\n",
    "    \"\"\"\n",
    "    Representa un libro con título, autor, número de páginas y estado de lectura.\n",
    "    \"\"\"\n",
    "    def __init__(self, titulo: str, autor: str, paginas: int):\n",
    "        \"\"\"\n",
    "        Inicializa un libro con su información.\n",
    "        \"\"\"\n",
    "        self.titulo = titulo\n",
    "        self.autor = autor\n",
    "        self.paginas = paginas\n",
    "        self.leido = False\n",
    "\n",
    "    def marcar_como_leido(self):\n",
    "        \"\"\"\n",
    "        Marca el libro como leído.\n",
    "        \"\"\"\n",
    "        self.leido = True\n",
    "        print(f\"El libro '{self.titulo}' ha sido marcado como leído.\")\n",
    "\n",
    "    def descripcion(self) -> str:\n",
    "        \"\"\"\n",
    "        Devuelve una descripción legible del libro.\n",
    "        \"\"\"\n",
    "        estado = \"Leído\" if self.leido else \"No leído\"\n",
    "        return f\"Título: {self.titulo}, Autor: {self.autor}, Páginas: {self.paginas}, Estado: {estado}\"\n"
   ]
  },
  {
   "cell_type": "code",
   "execution_count": 38,
   "metadata": {},
   "outputs": [],
   "source": [
    "def probar_clase_libro():\n",
    "    \"\"\"\n",
    "    Prueba la clase Libro con tres libros diferentes.\n",
    "    \"\"\"\n",
    "    print(\"Pruebas de la clase Libro:\")\n",
    "    libro1 = Libro(\"1984\", \"George Orwell\", 328)\n",
    "    libro2 = Libro(\"Cien años de soledad\", \"Gabriel García Márquez\", 471)\n",
    "    libro3 = Libro(\"El principito\", \"Antoine de Saint-Exupéry\", 96)\n",
    "\n",
    "    print(libro1.descripcion())\n",
    "    libro1.marcar_como_leido()\n",
    "    print(libro1.descripcion())\n",
    "\n",
    "    print(libro2.descripcion())\n",
    "    libro2.marcar_como_leido()\n",
    "    print(libro2.descripcion())\n",
    "\n",
    "    print(libro3.descripcion())\n",
    "    libro3.marcar_como_leido()\n",
    "    print(libro3.descripcion())"
   ]
  },
  {
   "cell_type": "code",
   "execution_count": 39,
   "metadata": {},
   "outputs": [
    {
     "name": "stdout",
     "output_type": "stream",
     "text": [
      "Pruebas de la clase Libro:\n",
      "Título: 1984, Autor: George Orwell, Páginas: 328, Estado: No leído\n",
      "El libro '1984' ha sido marcado como leído.\n",
      "Título: 1984, Autor: George Orwell, Páginas: 328, Estado: Leído\n",
      "Título: Cien años de soledad, Autor: Gabriel García Márquez, Páginas: 471, Estado: No leído\n",
      "El libro 'Cien años de soledad' ha sido marcado como leído.\n",
      "Título: Cien años de soledad, Autor: Gabriel García Márquez, Páginas: 471, Estado: Leído\n",
      "Título: El principito, Autor: Antoine de Saint-Exupéry, Páginas: 96, Estado: No leído\n",
      "El libro 'El principito' ha sido marcado como leído.\n",
      "Título: El principito, Autor: Antoine de Saint-Exupéry, Páginas: 96, Estado: Leído\n"
     ]
    }
   ],
   "source": [
    "probar_clase_libro()"
   ]
  },
  {
   "cell_type": "markdown",
   "metadata": {},
   "source": [
    "#  Ejercicio No. 9"
   ]
  },
  {
   "cell_type": "code",
   "execution_count": 40,
   "metadata": {},
   "outputs": [],
   "source": [
    "class CuentaBancaria:\n",
    "    \"\"\"\n",
    "    Representa una cuenta bancaria con un titular, saldo y métodos para depositar y retirar dinero.\n",
    "    \"\"\"\n",
    "    def __init__(self, titular: str, saldo: float = 0.0):\n",
    "        \"\"\"\n",
    "        Inicializa una cuenta con titular y saldo inicial.\n",
    "        \"\"\"\n",
    "        self.titular = titular\n",
    "        self.saldo = saldo\n",
    "\n",
    "    def depositar(self, cantidad: float):\n",
    "        \"\"\"\n",
    "        Deposita una cantidad en la cuenta.\n",
    "        \"\"\"\n",
    "        if cantidad > 0:\n",
    "            self.saldo += cantidad\n",
    "            print(f\"Se han depositado {cantidad:.2f}. Saldo actual: {self.saldo:.2f}\")\n",
    "        else:\n",
    "            print(\"Error: La cantidad a depositar debe ser positiva.\")\n",
    "\n",
    "    def retirar(self, cantidad: float):\n",
    "        \"\"\"\n",
    "        Retira una cantidad de la cuenta si hay saldo suficiente.\n",
    "        \"\"\"\n",
    "        if 0 < cantidad <= self.saldo:\n",
    "            self.saldo -= cantidad\n",
    "            print(f\"Se han retirado {cantidad:.2f}. Saldo actual: {self.saldo:.2f}\")\n",
    "        else:\n",
    "            print(\"Error: Fondos insuficientes o cantidad no válida.\")\n",
    "\n",
    "    def obtener_saldo(self) -> float:\n",
    "        \"\"\"\n",
    "        Devuelve el saldo actual de la cuenta.\n",
    "        \"\"\"\n",
    "        return self.saldo\n",
    "\n",
    "    def descripcion(self) -> str:\n",
    "        \"\"\"\n",
    "        Devuelve una descripción de la cuenta bancaria.\n",
    "        \"\"\"\n",
    "        return f\"Titular: {self.titular}, Saldo: {self.saldo:.2f}\""
   ]
  },
  {
   "cell_type": "code",
   "execution_count": 41,
   "metadata": {},
   "outputs": [],
   "source": [
    "def probar_clase_cuenta_bancaria():\n",
    "    \"\"\"\n",
    "    Prueba la clase CuentaBancaria con diferentes operaciones.\n",
    "    \"\"\"\n",
    "    print(\"Pruebas de la clase CuentaBancaria:\")\n",
    "    cuenta1 = CuentaBancaria(\"Juan Pérez\", 1000)\n",
    "    cuenta2 = CuentaBancaria(\"Ana Gómez\", 500)\n",
    "\n",
    "    print(cuenta1.descripcion())\n",
    "    cuenta1.depositar(500)\n",
    "    cuenta1.retirar(300)\n",
    "    print(cuenta1.descripcion())\n",
    "\n",
    "    print(cuenta2.descripcion())\n",
    "    cuenta2.retirar(700)\n",
    "    cuenta2.depositar(200)\n",
    "    print(cuenta2.descripcion())"
   ]
  },
  {
   "cell_type": "code",
   "execution_count": 42,
   "metadata": {},
   "outputs": [
    {
     "name": "stdout",
     "output_type": "stream",
     "text": [
      "Pruebas de la clase CuentaBancaria:\n",
      "Titular: Juan Pérez, Saldo: 1000.00\n",
      "Se han depositado 500.00. Saldo actual: 1500.00\n",
      "Se han retirado 300.00. Saldo actual: 1200.00\n",
      "Titular: Juan Pérez, Saldo: 1200.00\n",
      "Titular: Ana Gómez, Saldo: 500.00\n",
      "Error: Fondos insuficientes o cantidad no válida.\n",
      "Se han depositado 200.00. Saldo actual: 700.00\n",
      "Titular: Ana Gómez, Saldo: 700.00\n"
     ]
    }
   ],
   "source": [
    "probar_clase_cuenta_bancaria()"
   ]
  }
 ],
 "metadata": {
  "kernelspec": {
   "display_name": "env_ugal_2025_CD",
   "language": "python",
   "name": "python3"
  },
  "language_info": {
   "codemirror_mode": {
    "name": "ipython",
    "version": 3
   },
   "file_extension": ".py",
   "mimetype": "text/x-python",
   "name": "python",
   "nbconvert_exporter": "python",
   "pygments_lexer": "ipython3",
   "version": "3.12.9"
  }
 },
 "nbformat": 4,
 "nbformat_minor": 2
}
